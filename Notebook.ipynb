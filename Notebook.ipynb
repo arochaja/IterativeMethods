{
  "nbformat": 4,
  "nbformat_minor": 0,
  "metadata": {
    "colab": {
      "provenance": []
    },
    "kernelspec": {
      "name": "python3",
      "display_name": "Python 3"
    },
    "language_info": {
      "name": "python"
    }
  },
  "cells": [
    {
      "cell_type": "code",
      "execution_count": null,
      "metadata": {
        "id": "Ctlp0p8LPU3E"
      },
      "outputs": [],
      "source": [
        "import numpy as np\n",
        "import pandas as pd\n",
        "from numpy.linalg import inv"
      ]
    },
    {
      "cell_type": "markdown",
      "source": [
        "# Part A"
      ],
      "metadata": {
        "id": "wO6j3aBKQBTa"
      }
    },
    {
      "cell_type": "code",
      "source": [
        "# Variable Set Up\n",
        "A = np.matrix([[3, -1, 0, 0, 0, 0.5],\n",
        "              [-1, 3, -1, 0, 0.5, 0],\n",
        "              [0, -1, 3, -1, 0 , 0],\n",
        "              [0, 0, -1, 3, -1, 0],\n",
        "              [0, 0.5, 0, -1, 3,-1],\n",
        "              [0.5, 0, 0, 0, -1, 3]])\n",
        "\n",
        "D = np.matrix(np.diag(np.diag(A)))\n",
        "\n",
        "D_inv = np.matrix(inv(D))\n",
        "L = np.matrix(np.tril(A, k =-1)) #Lower Triangle of A\n",
        "U = np.matrix(np.triu(A, k = 1)) #Upper Triangle of A\n",
        "b = np.matrix([[2.5, 1.5, 1, 1, 1.5, 2.5]]).transpose()\n",
        "initial_guess = np.matrix([[0, 0, 0, 0, 0, 0]]).transpose()\n",
        "\n",
        "#Calculation\n",
        "for i in range(6):\n",
        "  initial_guess = np.matmul(D_inv, np.matrix(np.add(b, np.matrix(np.matmul(np.matrix(np.add(L, U)), initial_guess)) * -1)))\n",
        "\n",
        "\n",
        "print(\"Jacobi Method:\")\n",
        "\n",
        "print(\"\")\n",
        "\n",
        "print(\"This is x6:\")\n",
        "print(np.matrix(initial_guess))\n"
      ],
      "metadata": {
        "colab": {
          "base_uri": "https://localhost:8080/"
        },
        "id": "QcEYCHA4QWUc",
        "outputId": "5fd61248-4c9e-45fd-d126-bec3ee1ec490"
      },
      "execution_count": null,
      "outputs": [
        {
          "output_type": "stream",
          "name": "stdout",
          "text": [
            "Jacobi Method:\n",
            "\n",
            "This is x6:\n",
            "[[0.98789009]\n",
            " [0.98458933]\n",
            " [0.96737826]\n",
            " [0.96737826]\n",
            " [0.98458933]\n",
            " [0.98789009]]\n"
          ]
        }
      ]
    },
    {
      "cell_type": "markdown",
      "source": [
        "# Part B"
      ],
      "metadata": {
        "id": "3nQ92plkpfIz"
      }
    },
    {
      "cell_type": "code",
      "source": [
        "from re import X\n",
        "# Variable Set Up\n",
        "A = np.matrix([[3, -1, 0, 0, 0, 0.5],\n",
        "              [-1, 3, -1, 0, 0.5, 0],\n",
        "              [0, -1, 3, -1, 0 , 0],\n",
        "              [0, 0, -1, 3, -1, 0],\n",
        "              [0, 0.5, 0, -1, 3,-1],\n",
        "              [0.5, 0, 0, 0, -1, 3]])\n",
        "\n",
        "\n",
        "initial_guess = np.matrix([[0, 0, 0, 0, 0, 0]]).transpose()\n",
        "\n",
        "for i in range(6):\n",
        "  x1 = (b[0,0] - (A[0, 1] * initial_guess[1,0]) - (A[0,2] * initial_guess[2,0]) - (A[0,3] * initial_guess[3,0]) - (A[0,4] * initial_guess[4,0]) - (A[0, 5] * initial_guess[5, 0])) / A[0,0]\n",
        "  x2 = (b[1,0] - (A[1,0] * x1) - (A[1,2] * initial_guess[2,0]) - (A[1,3] * initial_guess[3,0]) - (A[1,4] * initial_guess[4,0]) - (A[1, 5] * initial_guess[5, 0])) / A[1,1]\n",
        "  x3 = (b[2,0] - (A[2,0] * x1) - (A[2, 1] * x2) - (A[2,3] * initial_guess[3,0]) - (A[2,4] * initial_guess[4,0]) - (A[2, 5] * initial_guess[5, 0])) / A[2,2]\n",
        "  x4 = (b[3,0] - (A[3,0] * x1) - (A[3, 1] * x2) - (A[3,2] * x3) - (A[3,4] * initial_guess[4,0]) - (A[3, 5] * initial_guess[5, 0])) / A[3,3]\n",
        "  x5 = (b[4,0] - (A[4,0] * x1) - (A[4, 1] * x2) - (A[4,2] * x3) - (A[4,3] * x4)  - (A[4, 5] * initial_guess[5, 0])) / A[4,4]\n",
        "  x6 = (b[5,0] - (A[5,0] * x1) - (A[5, 1] * x2) - (A[5,2] * x3) - (A[5,3] * x4) - (A[5,4] * x5)) / A[5,5]\n",
        "\n",
        "  initial_guess = np.matrix([[x1, x2, x3, x4, x5, x6]]).transpose()\n",
        "\n",
        "print(\"Gauss Seidel Method:\")\n",
        "\n",
        "print(\"\")\n",
        "\n",
        "print(\"This is x6:\")\n",
        "print(np.matrix(initial_guess))"
      ],
      "metadata": {
        "id": "JppbIZZfpkX-",
        "colab": {
          "base_uri": "https://localhost:8080/"
        },
        "outputId": "3c159bed-3e35-4cec-bafc-224d87e81380"
      },
      "execution_count": null,
      "outputs": [
        {
          "output_type": "stream",
          "name": "stdout",
          "text": [
            "Gauss Seidel Method:\n",
            "\n",
            "This is x6:\n",
            "[[0.99500193]\n",
            " [0.99460836]\n",
            " [0.99689801]\n",
            " [0.99955387]\n",
            " [1.00155078]\n",
            " [1.00134994]]\n"
          ]
        }
      ]
    },
    {
      "cell_type": "markdown",
      "source": [
        "# Part C"
      ],
      "metadata": {
        "id": "H9pdgiqHfnFq"
      }
    },
    {
      "cell_type": "code",
      "source": [
        "def gauss_seidel_iterate(iterate, initial_guess):\n",
        "  # Variable Set Up\n",
        "  A = np.matrix([[3, -1, 0, 0, 0, 0.5],\n",
        "              [-1, 3, -1, 0, 0.5, 0],\n",
        "              [0, -1, 3, -1, 0 , 0],\n",
        "              [0, 0, -1, 3, -1, 0],\n",
        "              [0, 0.5, 0, -1, 3,-1],\n",
        "              [0.5, 0, 0, 0, -1, 3]])\n",
        "\n",
        "  for i in range(iterate):\n",
        "    x1 = (b[0,0] - (A[0, 1] * initial_guess[1,0]) - (A[0,2] * initial_guess[2,0]) - (A[0,3] * initial_guess[3,0]) - (A[0,4] * initial_guess[4,0]) - (A[0, 5] * initial_guess[5, 0])) / A[0,0]\n",
        "    x2 = (b[1,0] - (A[1,0] * x1) - (A[1,2] * initial_guess[2,0]) - (A[1,3] * initial_guess[3,0]) - (A[1,4] * initial_guess[4,0]) - (A[1, 5] * initial_guess[5, 0])) / A[1,1]\n",
        "    x3 = (b[2,0] - (A[2,0] * x1) - (A[2, 1] * x2) - (A[2,3] * initial_guess[3,0]) - (A[2,4] * initial_guess[4,0]) - (A[2, 5] * initial_guess[5, 0])) / A[2,2]\n",
        "    x4 = (b[3,0] - (A[3,0] * x1) - (A[3, 1] * x2) - (A[3,2] * x3) - (A[3,4] * initial_guess[4,0]) - (A[3, 5] * initial_guess[5, 0])) / A[3,3]\n",
        "    x5 = (b[4,0] - (A[4,0] * x1) - (A[4, 1] * x2) - (A[4,2] * x3) - (A[4,3] * x4)  - (A[4, 5] * initial_guess[5, 0])) / A[4,4]\n",
        "    x6 = (b[5,0] - (A[5,0] * x1) - (A[5, 1] * x2) - (A[5,2] * x3) - (A[5,3] * x4) - (A[5,4] * x5)) / A[5,5]\n",
        "\n",
        "    initial_guess = np.matrix([[x1, x2, x3, x4, x5, x6]]).transpose()\n",
        "\n",
        "  return initial_guess\n",
        "\n",
        "\n",
        "initial_guess = np.matrix([[0, 0, 0, 0, 0, 0]]).transpose()\n",
        "w = 1.02\n",
        "for i in range(6):\n",
        "    initial_guess = np.add(gauss_seidel_iterate(i, initial_guess) * w, (1-w) * initial_guess)\n",
        "\n",
        "print(\"SOR Method:\")\n",
        "\n",
        "print(\"\")\n",
        "\n",
        "print(\"This is x6:\")\n",
        "print(np.matrix(initial_guess))"
      ],
      "metadata": {
        "colab": {
          "base_uri": "https://localhost:8080/"
        },
        "id": "6UhiF-CBfqEM",
        "outputId": "cb8d51f1-9888-4abf-f7cc-9528ea6f347c"
      },
      "execution_count": null,
      "outputs": [
        {
          "output_type": "stream",
          "name": "stdout",
          "text": [
            "SOR Method:\n",
            "\n",
            "This is x6:\n",
            "[[0.9999995 ]\n",
            " [0.99999897]\n",
            " [0.9999987 ]\n",
            " [0.99999896]\n",
            " [0.99999956]\n",
            " [0.99999994]]\n"
          ]
        }
      ]
    },
    {
      "cell_type": "markdown",
      "source": [
        "# Part D"
      ],
      "metadata": {
        "id": "jiMzaf2yiNiZ"
      }
    },
    {
      "cell_type": "code",
      "source": [
        "def gauss_seidel_iterate(iterate, initial_guess):\n",
        "  # Variable Set Up\n",
        "  A = np.matrix([[3, -1, 0, 0, 0, 0.5],\n",
        "              [-1, 3, -1, 0, 0.5, 0],\n",
        "              [0, -1, 3, -1, 0 , 0],\n",
        "              [0, 0, -1, 3, -1, 0],\n",
        "              [0, 0.5, 0, -1, 3,-1],\n",
        "              [0.5, 0, 0, 0, -1, 3]])\n",
        "\n",
        "  for i in range(6):\n",
        "    x1 = (b[0,0] - (A[0, 1] * initial_guess[1,0]) - (A[0,2] * initial_guess[2,0]) - (A[0,3] * initial_guess[3,0]) - (A[0,4] * initial_guess[4,0]) - (A[0, 5] * initial_guess[5, 0])) / A[0,0]\n",
        "    x2 = (b[1,0] - (A[1,0] * x1) - (A[1,2] * initial_guess[2,0]) - (A[1,3] * initial_guess[3,0]) - (A[1,4] * initial_guess[4,0]) - (A[1, 5] * initial_guess[5, 0])) / A[1,1]\n",
        "    x3 = (b[2,0] - (A[2,0] * x1) - (A[2, 1] * x2) - (A[2,3] * initial_guess[3,0]) - (A[2,4] * initial_guess[4,0]) - (A[2, 5] * initial_guess[5, 0])) / A[2,2]\n",
        "    x4 = (b[3,0] - (A[3,0] * x1) - (A[3, 1] * x2) - (A[3,2] * x3) - (A[3,4] * initial_guess[4,0]) - (A[3, 5] * initial_guess[5, 0])) / A[3,3]\n",
        "    x5 = (b[4,0] - (A[4,0] * x1) - (A[4, 1] * x2) - (A[4,2] * x3) - (A[4,3] * x4)  - (A[4, 5] * initial_guess[5, 0])) / A[4,4]\n",
        "    x6 = (b[5,0] - (A[5,0] * x1) - (A[5, 1] * x2) - (A[5,2] * x3) - (A[5,3] * x4) - (A[5,4] * x5)) / A[5,5]\n",
        "\n",
        "    initial_guess = np.matrix([[x1, x2, x3, x4, x5, x6]]).transpose()\n",
        "\n",
        "  return initial_guess\n",
        "\n",
        "\n",
        "def sor_iterate(w):\n",
        "  initial_guess = np.matrix([[0, 0, 0, 0, 0, 0]]).transpose()\n",
        "  for i in range(6):\n",
        "    initial_guess = np.add(gauss_seidel_iterate(i, initial_guess) * w, (1-w) * initial_guess)\n",
        "\n",
        "  return initial_guess\n",
        "\n",
        "ls = []\n",
        "ls2 = []\n",
        "exact = [1,1,1,1,1,1]\n",
        "w = 1\n",
        "for i in range(24):\n",
        "  w = w + .01\n",
        "  ls.append(np.linalg.norm(sor_iterate(w) - exact, np.inf))\n",
        "  ls2.append(w)\n",
        "\n",
        "df1 = pd.DataFrame({\"error\": ls, \"w\": ls2})\n",
        "df1.plot.scatter(x = \"w\", y = \"error\")"
      ],
      "metadata": {
        "colab": {
          "base_uri": "https://localhost:8080/",
          "height": 464
        },
        "id": "xjHtw1sSiQNY",
        "outputId": "3872944c-6360-4d12-a105-07a2c171edf1"
      },
      "execution_count": null,
      "outputs": [
        {
          "output_type": "execute_result",
          "data": {
            "text/plain": [
              "<Axes: xlabel='w', ylabel='error'>"
            ]
          },
          "metadata": {},
          "execution_count": 6
        },
        {
          "output_type": "display_data",
          "data": {
            "text/plain": [
              "<Figure size 640x480 with 1 Axes>"
            ],
            "image/png": "[encoded data removed]"
          },
          "metadata": {}
        }
      ]
    }
  ]
}